{
 "cells": [
  {
   "cell_type": "markdown",
   "metadata": {},
   "source": [
    "## importar librerias"
   ]
  },
  {
   "cell_type": "code",
   "execution_count": 34,
   "metadata": {},
   "outputs": [],
   "source": [
    "import cv2\n",
    "import os\n",
    "import pandas as pd\n",
    "import seaborn as sns\n",
    "from sklearn.preprocessing import StandardScaler\n",
    "from sklearn import svm\n",
    "from sklearn.model_selection import train_test_split, GridSearchCV, cross_val_score\n",
    "from sklearn.metrics import classification_report, confusion_matrix, accuracy_score\n",
    "import pickle"
   ]
  },
  {
   "cell_type": "markdown",
   "metadata": {},
   "source": [
    "## ir al directorio de las fotos y tomas los nombres de las carpetas"
   ]
  },
  {
   "cell_type": "code",
   "execution_count": 38,
   "metadata": {},
   "outputs": [],
   "source": [
    "local_path = os.getcwd()\n",
    "fotos_path = os.path.join(local_path, 'fotos-training')\n",
    "fotos_path = os.path.join(fotos_path, 'training')\n",
    "fotos_path = os.path.join(fotos_path, 'derecha')\n",
    "labels = os.listdir(fotos_path)\n",
    "labels_path = []\n",
    "for l in labels:\n",
    "    labels_path.append(os.path.join(fotos_path,l))"
   ]
  },
  {
   "cell_type": "markdown",
   "metadata": {},
   "source": [
    "## Aca renombre todas las imagenes de cada carpeta porque eran una caos"
   ]
  },
  {
   "cell_type": "code",
   "execution_count": 39,
   "metadata": {},
   "outputs": [],
   "source": [
    "os.listdir(labels_path[0])\n",
    "nombre_fotos = []\n",
    "for l in labels_path:\n",
    "    fotos = os.listdir(l)\n",
    "    i = 1\n",
    "    for f in fotos:\n",
    "        os.rename(os.path.join(l,f), os.path.join(l,f'{i}.jpg'))\n",
    "        i +=1"
   ]
  },
  {
   "cell_type": "markdown",
   "metadata": {},
   "source": [
    "## Cargo las imagenes, calculo los momentos y armo un dataframe con estos"
   ]
  },
  {
   "cell_type": "code",
   "execution_count": 40,
   "metadata": {},
   "outputs": [],
   "source": [
    "Hu_moments = []\n",
    "for l in labels_path:\n",
    "    for f in os.listdir(l):\n",
    "        img = cv2.imread(os.path.join(l,f))\n",
    "        im = cv2.cvtColor(img,cv2.COLOR_RGB2GRAY)\n",
    "        _,im = cv2.threshold(im, 128, 255, cv2.THRESH_BINARY)\n",
    "        HU = cv2.HuMoments(cv2.moments(im)).ravel().tolist()\n",
    "        HU.append(os.path.basename(os.path.normpath(l)))\n",
    "        Hu_moments.append(HU)"
   ]
  },
  {
   "cell_type": "code",
   "execution_count": 41,
   "metadata": {},
   "outputs": [],
   "source": [
    "columns = ['m1','m2','m3','m4','m5','m6','m7','p-p-t']\n",
    "df = pd.DataFrame(Hu_moments,columns=columns)\n",
    "df.to_csv('huMoments.csv')"
   ]
  },
  {
   "cell_type": "code",
   "execution_count": 42,
   "metadata": {},
   "outputs": [
    {
     "data": {
      "text/html": [
       "<div>\n",
       "<style scoped>\n",
       "    .dataframe tbody tr th:only-of-type {\n",
       "        vertical-align: middle;\n",
       "    }\n",
       "\n",
       "    .dataframe tbody tr th {\n",
       "        vertical-align: top;\n",
       "    }\n",
       "\n",
       "    .dataframe thead th {\n",
       "        text-align: right;\n",
       "    }\n",
       "</style>\n",
       "<table border=\"1\" class=\"dataframe\">\n",
       "  <thead>\n",
       "    <tr style=\"text-align: right;\">\n",
       "      <th></th>\n",
       "      <th>m1</th>\n",
       "      <th>m2</th>\n",
       "      <th>m3</th>\n",
       "      <th>m4</th>\n",
       "      <th>m5</th>\n",
       "      <th>m6</th>\n",
       "      <th>m7</th>\n",
       "    </tr>\n",
       "  </thead>\n",
       "  <tbody>\n",
       "    <tr>\n",
       "      <th>count</th>\n",
       "      <td>264.000000</td>\n",
       "      <td>2.640000e+02</td>\n",
       "      <td>2.640000e+02</td>\n",
       "      <td>2.640000e+02</td>\n",
       "      <td>2.640000e+02</td>\n",
       "      <td>2.640000e+02</td>\n",
       "      <td>2.640000e+02</td>\n",
       "    </tr>\n",
       "    <tr>\n",
       "      <th>mean</th>\n",
       "      <td>0.001362</td>\n",
       "      <td>5.190053e-07</td>\n",
       "      <td>1.557781e-09</td>\n",
       "      <td>1.510024e-10</td>\n",
       "      <td>-1.619089e-20</td>\n",
       "      <td>-7.129765e-14</td>\n",
       "      <td>-4.669455e-20</td>\n",
       "    </tr>\n",
       "    <tr>\n",
       "      <th>std</th>\n",
       "      <td>0.000199</td>\n",
       "      <td>1.712878e-07</td>\n",
       "      <td>7.964366e-10</td>\n",
       "      <td>1.024437e-10</td>\n",
       "      <td>7.369296e-20</td>\n",
       "      <td>5.772165e-14</td>\n",
       "      <td>1.529798e-19</td>\n",
       "    </tr>\n",
       "    <tr>\n",
       "      <th>min</th>\n",
       "      <td>0.001072</td>\n",
       "      <td>2.894203e-07</td>\n",
       "      <td>5.743846e-10</td>\n",
       "      <td>4.658343e-11</td>\n",
       "      <td>-1.825158e-19</td>\n",
       "      <td>-3.152397e-13</td>\n",
       "      <td>-7.324870e-19</td>\n",
       "    </tr>\n",
       "    <tr>\n",
       "      <th>25%</th>\n",
       "      <td>0.001208</td>\n",
       "      <td>3.936534e-07</td>\n",
       "      <td>1.007799e-09</td>\n",
       "      <td>8.840630e-11</td>\n",
       "      <td>-4.185328e-20</td>\n",
       "      <td>-8.511130e-14</td>\n",
       "      <td>-3.889406e-20</td>\n",
       "    </tr>\n",
       "    <tr>\n",
       "      <th>50%</th>\n",
       "      <td>0.001299</td>\n",
       "      <td>4.762236e-07</td>\n",
       "      <td>1.303075e-09</td>\n",
       "      <td>1.137806e-10</td>\n",
       "      <td>-2.336378e-20</td>\n",
       "      <td>-5.852766e-14</td>\n",
       "      <td>-6.020733e-21</td>\n",
       "    </tr>\n",
       "    <tr>\n",
       "      <th>75%</th>\n",
       "      <td>0.001491</td>\n",
       "      <td>5.977027e-07</td>\n",
       "      <td>1.851189e-09</td>\n",
       "      <td>1.781267e-10</td>\n",
       "      <td>-9.646193e-21</td>\n",
       "      <td>-3.905367e-14</td>\n",
       "      <td>6.161528e-21</td>\n",
       "    </tr>\n",
       "    <tr>\n",
       "      <th>max</th>\n",
       "      <td>0.001918</td>\n",
       "      <td>1.105253e-06</td>\n",
       "      <td>4.632665e-09</td>\n",
       "      <td>5.021318e-10</td>\n",
       "      <td>4.633260e-19</td>\n",
       "      <td>9.536280e-14</td>\n",
       "      <td>2.303653e-19</td>\n",
       "    </tr>\n",
       "  </tbody>\n",
       "</table>\n",
       "</div>"
      ],
      "text/plain": [
       "               m1            m2            m3            m4            m5  \\\n",
       "count  264.000000  2.640000e+02  2.640000e+02  2.640000e+02  2.640000e+02   \n",
       "mean     0.001362  5.190053e-07  1.557781e-09  1.510024e-10 -1.619089e-20   \n",
       "std      0.000199  1.712878e-07  7.964366e-10  1.024437e-10  7.369296e-20   \n",
       "min      0.001072  2.894203e-07  5.743846e-10  4.658343e-11 -1.825158e-19   \n",
       "25%      0.001208  3.936534e-07  1.007799e-09  8.840630e-11 -4.185328e-20   \n",
       "50%      0.001299  4.762236e-07  1.303075e-09  1.137806e-10 -2.336378e-20   \n",
       "75%      0.001491  5.977027e-07  1.851189e-09  1.781267e-10 -9.646193e-21   \n",
       "max      0.001918  1.105253e-06  4.632665e-09  5.021318e-10  4.633260e-19   \n",
       "\n",
       "                 m6            m7  \n",
       "count  2.640000e+02  2.640000e+02  \n",
       "mean  -7.129765e-14 -4.669455e-20  \n",
       "std    5.772165e-14  1.529798e-19  \n",
       "min   -3.152397e-13 -7.324870e-19  \n",
       "25%   -8.511130e-14 -3.889406e-20  \n",
       "50%   -5.852766e-14 -6.020733e-21  \n",
       "75%   -3.905367e-14  6.161528e-21  \n",
       "max    9.536280e-14  2.303653e-19  "
      ]
     },
     "execution_count": 42,
     "metadata": {},
     "output_type": "execute_result"
    }
   ],
   "source": [
    "df.describe()"
   ]
  },
  {
   "cell_type": "code",
   "execution_count": 43,
   "metadata": {},
   "outputs": [
    {
     "data": {
      "text/html": [
       "<div>\n",
       "<style scoped>\n",
       "    .dataframe tbody tr th:only-of-type {\n",
       "        vertical-align: middle;\n",
       "    }\n",
       "\n",
       "    .dataframe tbody tr th {\n",
       "        vertical-align: top;\n",
       "    }\n",
       "\n",
       "    .dataframe thead th {\n",
       "        text-align: right;\n",
       "    }\n",
       "</style>\n",
       "<table border=\"1\" class=\"dataframe\">\n",
       "  <thead>\n",
       "    <tr style=\"text-align: right;\">\n",
       "      <th></th>\n",
       "      <th>m1</th>\n",
       "      <th>m2</th>\n",
       "      <th>m3</th>\n",
       "      <th>m4</th>\n",
       "      <th>m5</th>\n",
       "      <th>m6</th>\n",
       "      <th>m7</th>\n",
       "    </tr>\n",
       "    <tr>\n",
       "      <th>p-p-t</th>\n",
       "      <th></th>\n",
       "      <th></th>\n",
       "      <th></th>\n",
       "      <th></th>\n",
       "      <th></th>\n",
       "      <th></th>\n",
       "      <th></th>\n",
       "    </tr>\n",
       "  </thead>\n",
       "  <tbody>\n",
       "    <tr>\n",
       "      <th>papel</th>\n",
       "      <td>0.001548</td>\n",
       "      <td>6.554904e-07</td>\n",
       "      <td>2.265345e-09</td>\n",
       "      <td>2.278990e-10</td>\n",
       "      <td>-2.155114e-20</td>\n",
       "      <td>-1.144294e-13</td>\n",
       "      <td>-9.992894e-20</td>\n",
       "    </tr>\n",
       "    <tr>\n",
       "      <th>piedra</th>\n",
       "      <td>0.001236</td>\n",
       "      <td>4.180938e-07</td>\n",
       "      <td>1.011198e-09</td>\n",
       "      <td>8.912060e-11</td>\n",
       "      <td>-1.016092e-20</td>\n",
       "      <td>-3.723523e-14</td>\n",
       "      <td>-4.046405e-21</td>\n",
       "    </tr>\n",
       "    <tr>\n",
       "      <th>tijeras</th>\n",
       "      <td>0.001266</td>\n",
       "      <td>4.605043e-07</td>\n",
       "      <td>1.283325e-09</td>\n",
       "      <td>1.242251e-10</td>\n",
       "      <td>-1.643497e-20</td>\n",
       "      <td>-5.548193e-14</td>\n",
       "      <td>-2.792125e-20</td>\n",
       "    </tr>\n",
       "  </tbody>\n",
       "</table>\n",
       "</div>"
      ],
      "text/plain": [
       "               m1            m2            m3            m4            m5  \\\n",
       "p-p-t                                                                       \n",
       "papel    0.001548  6.554904e-07  2.265345e-09  2.278990e-10 -2.155114e-20   \n",
       "piedra   0.001236  4.180938e-07  1.011198e-09  8.912060e-11 -1.016092e-20   \n",
       "tijeras  0.001266  4.605043e-07  1.283325e-09  1.242251e-10 -1.643497e-20   \n",
       "\n",
       "                   m6            m7  \n",
       "p-p-t                                \n",
       "papel   -1.144294e-13 -9.992894e-20  \n",
       "piedra  -3.723523e-14 -4.046405e-21  \n",
       "tijeras -5.548193e-14 -2.792125e-20  "
      ]
     },
     "execution_count": 43,
     "metadata": {},
     "output_type": "execute_result"
    }
   ],
   "source": [
    "grupos = df.groupby('p-p-t')\n",
    "grupos.mean()"
   ]
  },
  {
   "cell_type": "markdown",
   "metadata": {},
   "source": [
    "## separo los datos segun sean los de entrada o salida"
   ]
  },
  {
   "cell_type": "code",
   "execution_count": 44,
   "metadata": {},
   "outputs": [],
   "source": [
    "x_columns = [x for x in columns if x != 'p-p-t']\n",
    "x = df[x_columns]\n",
    "y = df['p-p-t']"
   ]
  },
  {
   "cell_type": "code",
   "execution_count": 46,
   "metadata": {},
   "outputs": [
    {
     "data": {
      "text/plain": [
       "<seaborn.axisgrid.FacetGrid at 0x2cade0b3fa0>"
      ]
     },
     "execution_count": 46,
     "metadata": {},
     "output_type": "execute_result"
    },
    {
     "data": {
      "image/png": "[encoded data removed]",
      "text/plain": [
       "<Figure size 427.875x360 with 1 Axes>"
      ]
     },
     "metadata": {
      "needs_background": "light"
     },
     "output_type": "display_data"
    }
   ],
   "source": [
    "sns.relplot(data=df,x='m1',y='m4', hue='p-p-t')"
   ]
  },
  {
   "cell_type": "markdown",
   "metadata": {},
   "source": [
    "## Escalar los datos: al haber tanta diferencia entro los distintos parametros los escalamos todos asi ninguno tiene mas peso que el otro"
   ]
  },
  {
   "cell_type": "code",
   "execution_count": 47,
   "metadata": {},
   "outputs": [],
   "source": [
    "standar = StandardScaler()\n",
    "scaler = standar.fit(df[x_columns])\n",
    "x_new = pd.DataFrame(scaler.transform(x[x.columns]),columns=x_columns)"
   ]
  },
  {
   "cell_type": "code",
   "execution_count": 48,
   "metadata": {},
   "outputs": [
    {
     "data": {
      "text/html": [
       "<div>\n",
       "<style scoped>\n",
       "    .dataframe tbody tr th:only-of-type {\n",
       "        vertical-align: middle;\n",
       "    }\n",
       "\n",
       "    .dataframe tbody tr th {\n",
       "        vertical-align: top;\n",
       "    }\n",
       "\n",
       "    .dataframe thead th {\n",
       "        text-align: right;\n",
       "    }\n",
       "</style>\n",
       "<table border=\"1\" class=\"dataframe\">\n",
       "  <thead>\n",
       "    <tr style=\"text-align: right;\">\n",
       "      <th></th>\n",
       "      <th>m1</th>\n",
       "      <th>m2</th>\n",
       "      <th>m3</th>\n",
       "      <th>m4</th>\n",
       "      <th>m5</th>\n",
       "      <th>m6</th>\n",
       "      <th>m7</th>\n",
       "      <th>p-p-t</th>\n",
       "    </tr>\n",
       "  </thead>\n",
       "  <tbody>\n",
       "    <tr>\n",
       "      <th>0</th>\n",
       "      <td>0.857026</td>\n",
       "      <td>0.436831</td>\n",
       "      <td>0.964603</td>\n",
       "      <td>2.733472</td>\n",
       "      <td>4.604552</td>\n",
       "      <td>1.141250</td>\n",
       "      <td>-1.563460</td>\n",
       "      <td>papel</td>\n",
       "    </tr>\n",
       "    <tr>\n",
       "      <th>1</th>\n",
       "      <td>1.226879</td>\n",
       "      <td>1.201072</td>\n",
       "      <td>1.716186</td>\n",
       "      <td>2.069078</td>\n",
       "      <td>-0.245987</td>\n",
       "      <td>-2.005711</td>\n",
       "      <td>-2.127900</td>\n",
       "      <td>papel</td>\n",
       "    </tr>\n",
       "    <tr>\n",
       "      <th>2</th>\n",
       "      <td>1.175104</td>\n",
       "      <td>1.027911</td>\n",
       "      <td>1.466120</td>\n",
       "      <td>2.364050</td>\n",
       "      <td>1.305331</td>\n",
       "      <td>-1.527946</td>\n",
       "      <td>-2.302216</td>\n",
       "      <td>papel</td>\n",
       "    </tr>\n",
       "    <tr>\n",
       "      <th>3</th>\n",
       "      <td>1.129616</td>\n",
       "      <td>0.931952</td>\n",
       "      <td>1.325873</td>\n",
       "      <td>2.554043</td>\n",
       "      <td>2.402123</td>\n",
       "      <td>-1.049871</td>\n",
       "      <td>-2.289994</td>\n",
       "      <td>papel</td>\n",
       "    </tr>\n",
       "    <tr>\n",
       "      <th>4</th>\n",
       "      <td>1.176651</td>\n",
       "      <td>1.000746</td>\n",
       "      <td>1.474835</td>\n",
       "      <td>2.582765</td>\n",
       "      <td>2.308280</td>\n",
       "      <td>-1.084378</td>\n",
       "      <td>-2.407729</td>\n",
       "      <td>papel</td>\n",
       "    </tr>\n",
       "    <tr>\n",
       "      <th>...</th>\n",
       "      <td>...</td>\n",
       "      <td>...</td>\n",
       "      <td>...</td>\n",
       "      <td>...</td>\n",
       "      <td>...</td>\n",
       "      <td>...</td>\n",
       "      <td>...</td>\n",
       "      <td>...</td>\n",
       "    </tr>\n",
       "    <tr>\n",
       "      <th>259</th>\n",
       "      <td>-0.349087</td>\n",
       "      <td>-0.254187</td>\n",
       "      <td>-0.310240</td>\n",
       "      <td>-0.393147</td>\n",
       "      <td>-0.113752</td>\n",
       "      <td>0.264645</td>\n",
       "      <td>0.080784</td>\n",
       "      <td>tijeras</td>\n",
       "    </tr>\n",
       "    <tr>\n",
       "      <th>260</th>\n",
       "      <td>-0.267713</td>\n",
       "      <td>-0.169443</td>\n",
       "      <td>-0.236623</td>\n",
       "      <td>-0.303726</td>\n",
       "      <td>-0.062373</td>\n",
       "      <td>0.297239</td>\n",
       "      <td>0.017952</td>\n",
       "      <td>tijeras</td>\n",
       "    </tr>\n",
       "    <tr>\n",
       "      <th>261</th>\n",
       "      <td>-0.225801</td>\n",
       "      <td>-0.135854</td>\n",
       "      <td>-0.206698</td>\n",
       "      <td>-0.268648</td>\n",
       "      <td>-0.031146</td>\n",
       "      <td>0.318394</td>\n",
       "      <td>-0.007276</td>\n",
       "      <td>tijeras</td>\n",
       "    </tr>\n",
       "    <tr>\n",
       "      <th>262</th>\n",
       "      <td>-0.805506</td>\n",
       "      <td>-0.686464</td>\n",
       "      <td>-0.588912</td>\n",
       "      <td>-0.616935</td>\n",
       "      <td>-0.149702</td>\n",
       "      <td>0.276246</td>\n",
       "      <td>0.300662</td>\n",
       "      <td>tijeras</td>\n",
       "    </tr>\n",
       "    <tr>\n",
       "      <th>263</th>\n",
       "      <td>-0.771625</td>\n",
       "      <td>-0.661551</td>\n",
       "      <td>-0.574386</td>\n",
       "      <td>-0.619987</td>\n",
       "      <td>-0.148944</td>\n",
       "      <td>0.277078</td>\n",
       "      <td>0.293465</td>\n",
       "      <td>tijeras</td>\n",
       "    </tr>\n",
       "  </tbody>\n",
       "</table>\n",
       "<p>264 rows × 8 columns</p>\n",
       "</div>"
      ],
      "text/plain": [
       "           m1        m2        m3        m4        m5        m6        m7  \\\n",
       "0    0.857026  0.436831  0.964603  2.733472  4.604552  1.141250 -1.563460   \n",
       "1    1.226879  1.201072  1.716186  2.069078 -0.245987 -2.005711 -2.127900   \n",
       "2    1.175104  1.027911  1.466120  2.364050  1.305331 -1.527946 -2.302216   \n",
       "3    1.129616  0.931952  1.325873  2.554043  2.402123 -1.049871 -2.289994   \n",
       "4    1.176651  1.000746  1.474835  2.582765  2.308280 -1.084378 -2.407729   \n",
       "..        ...       ...       ...       ...       ...       ...       ...   \n",
       "259 -0.349087 -0.254187 -0.310240 -0.393147 -0.113752  0.264645  0.080784   \n",
       "260 -0.267713 -0.169443 -0.236623 -0.303726 -0.062373  0.297239  0.017952   \n",
       "261 -0.225801 -0.135854 -0.206698 -0.268648 -0.031146  0.318394 -0.007276   \n",
       "262 -0.805506 -0.686464 -0.588912 -0.616935 -0.149702  0.276246  0.300662   \n",
       "263 -0.771625 -0.661551 -0.574386 -0.619987 -0.148944  0.277078  0.293465   \n",
       "\n",
       "       p-p-t  \n",
       "0      papel  \n",
       "1      papel  \n",
       "2      papel  \n",
       "3      papel  \n",
       "4      papel  \n",
       "..       ...  \n",
       "259  tijeras  \n",
       "260  tijeras  \n",
       "261  tijeras  \n",
       "262  tijeras  \n",
       "263  tijeras  \n",
       "\n",
       "[264 rows x 8 columns]"
      ]
     },
     "execution_count": 48,
     "metadata": {},
     "output_type": "execute_result"
    }
   ],
   "source": [
    "pd.concat([x_new,y],axis=1)"
   ]
  },
  {
   "cell_type": "markdown",
   "metadata": {},
   "source": [
    "## Primer modelo estimativo, modelo usado SVM"
   ]
  },
  {
   "cell_type": "code",
   "execution_count": 49,
   "metadata": {},
   "outputs": [],
   "source": [
    "x_train, x_test, y_train, y_test = train_test_split(x_new,y,random_state=31)\n",
    "C = 10\n",
    "gamma = 0.2\n",
    "modelo = svm.SVC(C=C, kernel='rbf').fit(x_train,y_train)\n",
    "#modelo = svm.SVC(C=C, kernel='rbf')\n",
    "#score = cross_val_score(modelo, x_new, y, scoring=\"accuracy\", cv=10, n_jobs=1)\n",
    "y_pred = modelo.predict(x_test)"
   ]
  },
  {
   "cell_type": "markdown",
   "metadata": {},
   "source": [
    "## Cuando vi que el modelo podia funcionar arme la grid para probar distintos parametros"
   ]
  },
  {
   "cell_type": "code",
   "execution_count": 50,
   "metadata": {},
   "outputs": [],
   "source": [
    "params_grid =[\n",
    "    {\n",
    "        'kernel':['rbf'],\n",
    "        'gamma':[1e-4,1e-3,1e-2, 0.1, 0.2, 0.5],\n",
    "        'C':[1,10,100,1000]\n",
    "    },\n",
    "    {\n",
    "        'kernel':['linear'],\n",
    "        'C':[1,10,100,1000]\n",
    "    }\n",
    "]\n",
    "gscv = GridSearchCV(svm.SVC(),param_grid=params_grid, cv=5)"
   ]
  },
  {
   "cell_type": "code",
   "execution_count": 57,
   "metadata": {},
   "outputs": [],
   "source": [
    "model = gscv.fit(x_train,y_train)\n",
    "clasifier = model.best_estimator_"
   ]
  },
  {
   "cell_type": "markdown",
   "metadata": {},
   "source": [
    "## Analizo los resultados de la grid Search"
   ]
  },
  {
   "cell_type": "code",
   "execution_count": 52,
   "metadata": {},
   "outputs": [
    {
     "name": "stdout",
     "output_type": "stream",
     "text": [
      "{'C': 1000, 'gamma': 0.2, 'kernel': 'rbf'}\n",
      "0.9392307692307693\n"
     ]
    }
   ],
   "source": [
    "print(model.best_params_)\n",
    "print(model.best_score_)\n",
    "#print(model.cv_results_)"
   ]
  },
  {
   "cell_type": "code",
   "execution_count": 31,
   "metadata": {},
   "outputs": [
    {
     "name": "stdout",
     "output_type": "stream",
     "text": [
      "0.35215946843853824 (+/-0.008137839677020524) para {'C': 1, 'gamma': 0.0001, 'kernel': 'rbf'}\n",
      "0.6055370985603544 (+/-0.048411343848732684) para {'C': 1, 'gamma': 0.001, 'kernel': 'rbf'}\n",
      "0.7746400885935769 (+/-0.07555816841780748) para {'C': 1, 'gamma': 0.01, 'kernel': 'rbf'}\n",
      "0.9339977851605757 (+/-0.05607700496683606) para {'C': 1, 'gamma': 0.1, 'kernel': 'rbf'}\n",
      "0.934108527131783 (+/-0.03642047360548301) para {'C': 1, 'gamma': 0.2, 'kernel': 'rbf'}\n",
      "0.967109634551495 (+/-0.04848222284904899) para {'C': 1, 'gamma': 0.5, 'kernel': 'rbf'}\n",
      "0.6055370985603544 (+/-0.048411343848732684) para {'C': 10, 'gamma': 0.0001, 'kernel': 'rbf'}\n",
      "0.7746400885935769 (+/-0.047409981710210124) para {'C': 10, 'gamma': 0.001, 'kernel': 'rbf'}\n",
      "0.9152823920265781 (+/-0.04932681606050964) para {'C': 10, 'gamma': 0.01, 'kernel': 'rbf'}\n",
      "0.953266888150609 (+/-0.06578334092535948) para {'C': 10, 'gamma': 0.1, 'kernel': 'rbf'}\n",
      "0.9719822812846068 (+/-0.03474969418818192) para {'C': 10, 'gamma': 0.2, 'kernel': 'rbf'}\n",
      "0.9673311184939092 (+/-0.037101039569396886) para {'C': 10, 'gamma': 0.5, 'kernel': 'rbf'}\n",
      "0.7746400885935769 (+/-0.047409981710210124) para {'C': 100, 'gamma': 0.0001, 'kernel': 'rbf'}\n",
      "0.9059800664451828 (+/-0.031215881156053813) para {'C': 100, 'gamma': 0.001, 'kernel': 'rbf'}\n",
      "0.93421926910299 (+/-0.019326298434882386) para {'C': 100, 'gamma': 0.01, 'kernel': 'rbf'}\n",
      "0.9439645625692137 (+/-0.05529740404402175) para {'C': 100, 'gamma': 0.1, 'kernel': 'rbf'}\n",
      "0.953266888150609 (+/-0.04110660823272063) para {'C': 100, 'gamma': 0.2, 'kernel': 'rbf'}\n",
      "0.9625692137320044 (+/-0.022243428450522715) para {'C': 100, 'gamma': 0.5, 'kernel': 'rbf'}\n",
      "0.9106312292358805 (+/-0.05557261186110142) para {'C': 1000, 'gamma': 0.0001, 'kernel': 'rbf'}\n",
      "0.9199335548172757 (+/-0.06481423987438231) para {'C': 1000, 'gamma': 0.001, 'kernel': 'rbf'}\n",
      "0.9155038759689923 (+/-0.07720740895139544) para {'C': 1000, 'gamma': 0.01, 'kernel': 'rbf'}\n",
      "0.9253599114064232 (+/-0.08472564181393456) para {'C': 1000, 'gamma': 0.1, 'kernel': 'rbf'}\n",
      "0.953266888150609 (+/-0.04110660823272063) para {'C': 1000, 'gamma': 0.2, 'kernel': 'rbf'}\n",
      "0.9625692137320044 (+/-0.022243428450522715) para {'C': 1000, 'gamma': 0.5, 'kernel': 'rbf'}\n",
      "0.9152823920265781 (+/-0.04932681606050964) para {'C': 1, 'kernel': 'linear'}\n",
      "0.9199335548172757 (+/-0.06481423987438231) para {'C': 10, 'kernel': 'linear'}\n",
      "0.9245847176079733 (+/-0.0702156497061247) para {'C': 100, 'kernel': 'linear'}\n",
      "0.9245847176079733 (+/-0.0702156497061247) para {'C': 1000, 'kernel': 'linear'}\n"
     ]
    }
   ],
   "source": [
    "means = model.cv_results_['mean_test_score']\n",
    "stds = model.cv_results_['std_test_score']\n",
    "params = model.cv_results_['params']\n",
    "for m, s, p in zip(means, stds, params):\n",
    "    print(f\"{m} (+/-{2*s}) para {p}\")"
   ]
  },
  {
   "cell_type": "markdown",
   "metadata": {},
   "source": [
    "## Hago las predicciones usando el mejor estimador y analizo los resultados"
   ]
  },
  {
   "cell_type": "code",
   "execution_count": 53,
   "metadata": {},
   "outputs": [],
   "source": [
    "y_pred = clasifier.predict(x_test)"
   ]
  },
  {
   "cell_type": "code",
   "execution_count": 54,
   "metadata": {},
   "outputs": [
    {
     "name": "stdout",
     "output_type": "stream",
     "text": [
      "              precision    recall  f1-score   support\n",
      "\n",
      "       papel       0.97      1.00      0.98        29\n",
      "      piedra       0.76      0.94      0.84        17\n",
      "     tijeras       1.00      0.75      0.86        20\n",
      "\n",
      "    accuracy                           0.91        66\n",
      "   macro avg       0.91      0.90      0.89        66\n",
      "weighted avg       0.92      0.91      0.91        66\n",
      "\n"
     ]
    }
   ],
   "source": [
    "print(classification_report(y_test, y_pred,labels=labels))"
   ]
  },
  {
   "cell_type": "code",
   "execution_count": 55,
   "metadata": {},
   "outputs": [
    {
     "data": {
      "text/plain": [
       "<matplotlib.axes._subplots.AxesSubplot at 0x2cadea98160>"
      ]
     },
     "execution_count": 55,
     "metadata": {},
     "output_type": "execute_result"
    },
    {
     "data": {
      "image/png": "[encoded data removed]",
      "text/plain": [
       "<Figure size 432x288 with 2 Axes>"
      ]
     },
     "metadata": {
      "needs_background": "light"
     },
     "output_type": "display_data"
    }
   ],
   "source": [
    "mat = confusion_matrix(y_test,y_pred)\n",
    "sns.heatmap(mat, square=True, annot=True, fmt='d', cbar=True, xticklabels=labels, yticklabels=labels)"
   ]
  },
  {
   "cell_type": "code",
   "execution_count": 56,
   "metadata": {},
   "outputs": [
    {
     "name": "stdout",
     "output_type": "stream",
     "text": [
      "0.9090909090909091\n"
     ]
    }
   ],
   "source": [
    "print(accuracy_score(y_pred,y_test))"
   ]
  },
  {
   "cell_type": "markdown",
   "metadata": {},
   "source": [
    "## Guardamos el modelo asi no hay que seguir entrenandolo cada vez"
   ]
  },
  {
   "cell_type": "code",
   "execution_count": 98,
   "metadata": {},
   "outputs": [],
   "source": [
    "with open('modelHU-SVM.pickle', 'wb') as f:\n",
    "    pickle.dump(clasifier,f)"
   ]
  },
  {
   "cell_type": "code",
   "execution_count": 66,
   "metadata": {},
   "outputs": [],
   "source": [
    "with open('estandarizador-HU.pickle', 'wb') as f:\n",
    "    pickle.dump(scaler, f)"
   ]
  },
  {
   "cell_type": "markdown",
   "metadata": {},
   "source": [
    "#### en caso que lo queramos importar de nuevo"
   ]
  },
  {
   "cell_type": "code",
   "execution_count": 2,
   "metadata": {},
   "outputs": [],
   "source": [
    "with open('modelHU-SVM.pickle', 'rb') as f:\n",
    "    clasifier = pickle.load(f)"
   ]
  },
  {
   "cell_type": "code",
   "execution_count": 3,
   "metadata": {},
   "outputs": [],
   "source": [
    "with open('estandarizador-HU.pickle', 'rb') as f:\n",
    "    scaler = pickle.load(f)"
   ]
  }
 ],
 "metadata": {
  "kernelspec": {
   "display_name": "Python 3",
   "language": "python",
   "name": "python3"
  },
  "language_info": {
   "codemirror_mode": {
    "name": "ipython",
    "version": 3
   },
   "file_extension": ".py",
   "mimetype": "text/x-python",
   "name": "python",
   "nbconvert_exporter": "python",
   "pygments_lexer": "ipython3",
   "version": "3.8.3"
  }
 },
 "nbformat": 4,
 "nbformat_minor": 4
}
