{
 "cells": [
  {
   "cell_type": "markdown",
   "metadata": {},
   "source": [
    "## importar librerias"
   ]
  },
  {
   "cell_type": "code",
   "execution_count": 1,
   "metadata": {},
   "outputs": [],
   "source": [
    "import cv2\n",
    "import os\n",
    "import pandas as pd\n",
    "import seaborn as sns\n",
    "from sklearn.preprocessing import StandardScaler\n",
    "from sklearn import svm\n",
    "from sklearn.model_selection import train_test_split, GridSearchCV, cross_val_score\n",
    "from sklearn.metrics import classification_report, confusion_matrix, accuracy_score\n",
    "import pickle"
   ]
  },
  {
   "cell_type": "markdown",
   "metadata": {},
   "source": [
    "## ir al directorio de las fotos y tomas los nombres de las carpetas"
   ]
  },
  {
   "cell_type": "code",
   "execution_count": 3,
   "metadata": {},
   "outputs": [],
   "source": [
    "local_path = os.getcwd()\n",
    "fotos_path = os.path.join(local_path, 'fotos-training')\n",
    "fotos_path = os.path.join(fotos_path, 'training')\n",
    "labels = os.listdir(fotos_path)\n",
    "labels_path = []\n",
    "for l in labels:\n",
    "    labels_path.append(os.path.join(fotos_path,l))"
   ]
  },
  {
   "cell_type": "markdown",
   "metadata": {},
   "source": [
    "## Aca renombre todas las imagenes de cada carpeta porque eran una caos"
   ]
  },
  {
   "cell_type": "code",
   "execution_count": 4,
   "metadata": {},
   "outputs": [],
   "source": [
    "os.listdir(labels_path[0])\n",
    "nombre_fotos = []\n",
    "for l in labels_path:\n",
    "    fotos = os.listdir(l)\n",
    "    i = 1\n",
    "    for f in fotos:\n",
    "        try:\n",
    "            os.rename(os.path.join(l,f), os.path.join(l,f'{i}.jpg'))\n",
    "            i +=1\n",
    "        except:\n",
    "            i +=1\n",
    "            pass"
   ]
  },
  {
   "cell_type": "markdown",
   "metadata": {},
   "source": [
    "## Cargo las imagenes, calculo los momentos y armo un dataframe con estos"
   ]
  },
  {
   "cell_type": "code",
   "execution_count": 10,
   "metadata": {},
   "outputs": [],
   "source": [
    "Hu_moments = []\n",
    "for l in labels_path:\n",
    "        for f in os.listdir(l):\n",
    "            img = cv2.imread(os.path.join(l,f))\n",
    "            im = cv2.cvtColor(img,cv2.COLOR_RGB2GRAY)\n",
    "            _,im = cv2.threshold(im, 160, 200, cv2.THRESH_BINARY)\n",
    "            HU = cv2.HuMoments(cv2.moments(im)).ravel().tolist()\n",
    "            HU.append(os.path.basename(os.path.normpath(l)))\n",
    "            Hu_moments.append(HU)"
   ]
  },
  {
   "cell_type": "code",
   "execution_count": 11,
   "metadata": {},
   "outputs": [],
   "source": [
    "columns = ['m1','m2','m3','m4','m5','m6','m7','p-p-t']\n",
    "df = pd.DataFrame(Hu_moments,columns=columns)\n",
    "df.to_csv('huMoments.csv')"
   ]
  },
  {
   "cell_type": "code",
   "execution_count": 12,
   "metadata": {},
   "outputs": [
    {
     "data": {
      "text/html": [
       "<div>\n",
       "<style scoped>\n",
       "    .dataframe tbody tr th:only-of-type {\n",
       "        vertical-align: middle;\n",
       "    }\n",
       "\n",
       "    .dataframe tbody tr th {\n",
       "        vertical-align: top;\n",
       "    }\n",
       "\n",
       "    .dataframe thead th {\n",
       "        text-align: right;\n",
       "    }\n",
       "</style>\n",
       "<table border=\"1\" class=\"dataframe\">\n",
       "  <thead>\n",
       "    <tr style=\"text-align: right;\">\n",
       "      <th></th>\n",
       "      <th>m1</th>\n",
       "      <th>m2</th>\n",
       "      <th>m3</th>\n",
       "      <th>m4</th>\n",
       "      <th>m5</th>\n",
       "      <th>m6</th>\n",
       "      <th>m7</th>\n",
       "    </tr>\n",
       "  </thead>\n",
       "  <tbody>\n",
       "    <tr>\n",
       "      <th>count</th>\n",
       "      <td>655.000000</td>\n",
       "      <td>6.550000e+02</td>\n",
       "      <td>6.550000e+02</td>\n",
       "      <td>6.550000e+02</td>\n",
       "      <td>6.550000e+02</td>\n",
       "      <td>6.550000e+02</td>\n",
       "      <td>6.550000e+02</td>\n",
       "    </tr>\n",
       "    <tr>\n",
       "      <th>mean</th>\n",
       "      <td>0.002215</td>\n",
       "      <td>3.634472e-06</td>\n",
       "      <td>6.328612e-09</td>\n",
       "      <td>4.664329e-09</td>\n",
       "      <td>4.004885e-17</td>\n",
       "      <td>9.461522e-12</td>\n",
       "      <td>2.977034e-18</td>\n",
       "    </tr>\n",
       "    <tr>\n",
       "      <th>std</th>\n",
       "      <td>0.000593</td>\n",
       "      <td>2.717045e-06</td>\n",
       "      <td>4.749065e-09</td>\n",
       "      <td>3.808029e-09</td>\n",
       "      <td>2.349588e-16</td>\n",
       "      <td>1.094785e-11</td>\n",
       "      <td>1.539618e-17</td>\n",
       "    </tr>\n",
       "    <tr>\n",
       "      <th>min</th>\n",
       "      <td>0.001081</td>\n",
       "      <td>2.803461e-07</td>\n",
       "      <td>3.484630e-11</td>\n",
       "      <td>6.743965e-13</td>\n",
       "      <td>-6.032775e-18</td>\n",
       "      <td>-4.826957e-14</td>\n",
       "      <td>-2.166980e-16</td>\n",
       "    </tr>\n",
       "    <tr>\n",
       "      <th>25%</th>\n",
       "      <td>0.002113</td>\n",
       "      <td>2.851386e-06</td>\n",
       "      <td>5.655355e-09</td>\n",
       "      <td>4.109890e-09</td>\n",
       "      <td>2.039440e-17</td>\n",
       "      <td>7.203421e-12</td>\n",
       "      <td>4.084767e-19</td>\n",
       "    </tr>\n",
       "    <tr>\n",
       "      <th>50%</th>\n",
       "      <td>0.002188</td>\n",
       "      <td>3.250321e-06</td>\n",
       "      <td>6.432334e-09</td>\n",
       "      <td>4.621543e-09</td>\n",
       "      <td>2.519665e-17</td>\n",
       "      <td>8.455965e-12</td>\n",
       "      <td>1.769308e-18</td>\n",
       "    </tr>\n",
       "    <tr>\n",
       "      <th>75%</th>\n",
       "      <td>0.002366</td>\n",
       "      <td>3.959483e-06</td>\n",
       "      <td>7.313567e-09</td>\n",
       "      <td>5.309527e-09</td>\n",
       "      <td>3.251400e-17</td>\n",
       "      <td>1.007181e-11</td>\n",
       "      <td>4.342977e-18</td>\n",
       "    </tr>\n",
       "    <tr>\n",
       "      <th>max</th>\n",
       "      <td>0.005708</td>\n",
       "      <td>2.517869e-05</td>\n",
       "      <td>9.116430e-08</td>\n",
       "      <td>7.298453e-08</td>\n",
       "      <td>5.953107e-15</td>\n",
       "      <td>1.864987e-10</td>\n",
       "      <td>1.258724e-16</td>\n",
       "    </tr>\n",
       "  </tbody>\n",
       "</table>\n",
       "</div>"
      ],
      "text/plain": [
       "               m1            m2            m3            m4            m5  \\\n",
       "count  655.000000  6.550000e+02  6.550000e+02  6.550000e+02  6.550000e+02   \n",
       "mean     0.002215  3.634472e-06  6.328612e-09  4.664329e-09  4.004885e-17   \n",
       "std      0.000593  2.717045e-06  4.749065e-09  3.808029e-09  2.349588e-16   \n",
       "min      0.001081  2.803461e-07  3.484630e-11  6.743965e-13 -6.032775e-18   \n",
       "25%      0.002113  2.851386e-06  5.655355e-09  4.109890e-09  2.039440e-17   \n",
       "50%      0.002188  3.250321e-06  6.432334e-09  4.621543e-09  2.519665e-17   \n",
       "75%      0.002366  3.959483e-06  7.313567e-09  5.309527e-09  3.251400e-17   \n",
       "max      0.005708  2.517869e-05  9.116430e-08  7.298453e-08  5.953107e-15   \n",
       "\n",
       "                 m6            m7  \n",
       "count  6.550000e+02  6.550000e+02  \n",
       "mean   9.461522e-12  2.977034e-18  \n",
       "std    1.094785e-11  1.539618e-17  \n",
       "min   -4.826957e-14 -2.166980e-16  \n",
       "25%    7.203421e-12  4.084767e-19  \n",
       "50%    8.455965e-12  1.769308e-18  \n",
       "75%    1.007181e-11  4.342977e-18  \n",
       "max    1.864987e-10  1.258724e-16  "
      ]
     },
     "execution_count": 12,
     "metadata": {},
     "output_type": "execute_result"
    }
   ],
   "source": [
    "df.describe()"
   ]
  },
  {
   "cell_type": "code",
   "execution_count": 48,
   "metadata": {},
   "outputs": [
    {
     "data": {
      "text/html": [
       "<div>\n",
       "<style scoped>\n",
       "    .dataframe tbody tr th:only-of-type {\n",
       "        vertical-align: middle;\n",
       "    }\n",
       "\n",
       "    .dataframe tbody tr th {\n",
       "        vertical-align: top;\n",
       "    }\n",
       "\n",
       "    .dataframe thead th {\n",
       "        text-align: right;\n",
       "    }\n",
       "</style>\n",
       "<table border=\"1\" class=\"dataframe\">\n",
       "  <thead>\n",
       "    <tr style=\"text-align: right;\">\n",
       "      <th></th>\n",
       "      <th>m1</th>\n",
       "      <th>m2</th>\n",
       "      <th>m3</th>\n",
       "      <th>m4</th>\n",
       "      <th>m5</th>\n",
       "      <th>m6</th>\n",
       "      <th>m7</th>\n",
       "    </tr>\n",
       "    <tr>\n",
       "      <th>p-p-t</th>\n",
       "      <th></th>\n",
       "      <th></th>\n",
       "      <th></th>\n",
       "      <th></th>\n",
       "      <th></th>\n",
       "      <th></th>\n",
       "      <th></th>\n",
       "    </tr>\n",
       "  </thead>\n",
       "  <tbody>\n",
       "    <tr>\n",
       "      <th>papel2</th>\n",
       "      <td>0.004793</td>\n",
       "      <td>0.000007</td>\n",
       "      <td>1.960983e-07</td>\n",
       "      <td>8.599380e-08</td>\n",
       "      <td>2.810455e-14</td>\n",
       "      <td>1.585688e-10</td>\n",
       "      <td>-3.496837e-14</td>\n",
       "    </tr>\n",
       "    <tr>\n",
       "      <th>piedras2</th>\n",
       "      <td>0.006785</td>\n",
       "      <td>0.000014</td>\n",
       "      <td>3.933911e-07</td>\n",
       "      <td>2.154200e-07</td>\n",
       "      <td>1.921634e-13</td>\n",
       "      <td>7.855409e-10</td>\n",
       "      <td>-7.051951e-14</td>\n",
       "    </tr>\n",
       "    <tr>\n",
       "      <th>tijeras2</th>\n",
       "      <td>0.005988</td>\n",
       "      <td>0.000014</td>\n",
       "      <td>1.654262e-07</td>\n",
       "      <td>8.057360e-08</td>\n",
       "      <td>8.407137e-14</td>\n",
       "      <td>5.023353e-10</td>\n",
       "      <td>-2.481100e-14</td>\n",
       "    </tr>\n",
       "  </tbody>\n",
       "</table>\n",
       "</div>"
      ],
      "text/plain": [
       "                m1        m2            m3            m4            m5  \\\n",
       "p-p-t                                                                    \n",
       "papel2    0.004793  0.000007  1.960983e-07  8.599380e-08  2.810455e-14   \n",
       "piedras2  0.006785  0.000014  3.933911e-07  2.154200e-07  1.921634e-13   \n",
       "tijeras2  0.005988  0.000014  1.654262e-07  8.057360e-08  8.407137e-14   \n",
       "\n",
       "                    m6            m7  \n",
       "p-p-t                                 \n",
       "papel2    1.585688e-10 -3.496837e-14  \n",
       "piedras2  7.855409e-10 -7.051951e-14  \n",
       "tijeras2  5.023353e-10 -2.481100e-14  "
      ]
     },
     "execution_count": 48,
     "metadata": {},
     "output_type": "execute_result"
    }
   ],
   "source": [
    "grupos = df.groupby('p-p-t')\n",
    "grupos.mean()"
   ]
  },
  {
   "cell_type": "markdown",
   "metadata": {},
   "source": [
    "## separo los datos segun sean los de entrada o salida"
   ]
  },
  {
   "cell_type": "code",
   "execution_count": 13,
   "metadata": {},
   "outputs": [],
   "source": [
    "x_columns = [x for x in columns if x != 'p-p-t']\n",
    "x = df[x_columns]\n",
    "y = df['p-p-t']"
   ]
  },
  {
   "cell_type": "code",
   "execution_count": 14,
   "metadata": {},
   "outputs": [
    {
     "data": {
      "text/plain": [
       "<seaborn.axisgrid.FacetGrid at 0x26a1d469ee0>"
      ]
     },
     "execution_count": 14,
     "metadata": {},
     "output_type": "execute_result"
    },
    {
     "data": {
      "image/png": "[encoded data removed]",
      "text/plain": [
       "<Figure size 427.875x360 with 1 Axes>"
      ]
     },
     "metadata": {
      "needs_background": "light"
     },
     "output_type": "display_data"
    }
   ],
   "source": [
    "sns.relplot(data=df,x='m2',y='m7', hue='p-p-t')"
   ]
  },
  {
   "cell_type": "markdown",
   "metadata": {},
   "source": [
    "## Separamos la parte de train de la de test"
   ]
  },
  {
   "cell_type": "code",
   "execution_count": 87,
   "metadata": {},
   "outputs": [],
   "source": [
    "x_train, x_test, y_train, y_test = train_test_split(x,y,random_state=31)"
   ]
  },
  {
   "cell_type": "markdown",
   "metadata": {},
   "source": [
    "## Escalar los datos: al haber tanta diferencia entro los distintos parametros los escalamos todos asi ninguno tiene mas peso que el otro"
   ]
  },
  {
   "cell_type": "code",
   "execution_count": 19,
   "metadata": {},
   "outputs": [],
   "source": [
    "standar = StandardScaler()\n",
    "scaler = standar.fit(x_train)\n",
    "x_train_new = scaler.transform(x_train)\n",
    "x_test_new = scaler.transform(x_test)"
   ]
  },
  {
   "cell_type": "code",
   "execution_count": 20,
   "metadata": {},
   "outputs": [
    {
     "data": {
      "text/plain": [
       "array([[-0.13760718, -0.20349091, -0.17438702, ..., -0.07761162,\n",
       "        -0.16878898, -0.28910941],\n",
       "       [ 0.26598088,  0.16966419,  0.45539721, ...,  0.05492639,\n",
       "         0.48521624, -0.22462997],\n",
       "       [ 3.84527721,  4.81248415, -0.71762499, ..., -0.12871608,\n",
       "         0.19110418, -0.89370435],\n",
       "       ...,\n",
       "       [-0.12698775, -0.1762237 , -0.05241504, ..., -0.05427032,\n",
       "        -0.05367948, -0.29442577],\n",
       "       [-0.0507954 , -0.14094715, -0.03803836, ..., -0.04888053,\n",
       "        -0.01315004, -0.15376059],\n",
       "       [-0.19251374, -0.27363773,  0.00748468, ..., -0.06262371,\n",
       "        -0.13709883, -0.07332671]])"
      ]
     },
     "execution_count": 20,
     "metadata": {},
     "output_type": "execute_result"
    }
   ],
   "source": [
    "x_train_new"
   ]
  },
  {
   "cell_type": "markdown",
   "metadata": {},
   "source": [
    "## Cuando vi que el modelo podia funcionar arme la grid para probar distintos parametros"
   ]
  },
  {
   "cell_type": "code",
   "execution_count": 21,
   "metadata": {},
   "outputs": [],
   "source": [
    "params_grid =[\n",
    "    {\n",
    "        'kernel':['rbf'],\n",
    "        'gamma':[1e-4,1e-3,1e-2, 0.1, 0.2, 0.5],\n",
    "        'C':[1,10,100,1000]\n",
    "    },\n",
    "    {\n",
    "        'kernel':['linear'],\n",
    "        'C':[1,10,100,1000]\n",
    "    }\n",
    "]\n",
    "gscv = GridSearchCV(svm.SVC(),param_grid=params_grid, cv=5)"
   ]
  },
  {
   "cell_type": "code",
   "execution_count": 85,
   "metadata": {},
   "outputs": [],
   "source": [
    "model = gscv.fit(x_train,y_train)\n",
    "clasifier = model.best_estimator_"
   ]
  },
  {
   "cell_type": "markdown",
   "metadata": {},
   "source": [
    "## Analizo los resultados de la grid Search"
   ]
  },
  {
   "cell_type": "code",
   "execution_count": 86,
   "metadata": {},
   "outputs": [
    {
     "name": "stdout",
     "output_type": "stream",
     "text": [
      "{'C': 1, 'gamma': 0.0001, 'kernel': 'rbf'}\n",
      "0.34215625644197073\n"
     ]
    }
   ],
   "source": [
    "print(model.best_params_)\n",
    "print(model.best_score_)\n",
    "#print(model.cv_results_)"
   ]
  },
  {
   "cell_type": "code",
   "execution_count": 27,
   "metadata": {},
   "outputs": [
    {
     "name": "stdout",
     "output_type": "stream",
     "text": [
      "0.34215625644197073 (+/-0.009215863059570197) para {'C': 1, 'gamma': 0.0001, 'kernel': 'rbf'}\n",
      "0.505256648113791 (+/-0.0864846191572778) para {'C': 1, 'gamma': 0.001, 'kernel': 'rbf'}\n",
      "0.5724386724386725 (+/-0.07812179166803189) para {'C': 1, 'gamma': 0.01, 'kernel': 'rbf'}\n",
      "0.6702535559678416 (+/-0.11871817494135009) para {'C': 1, 'gamma': 0.1, 'kernel': 'rbf'}\n",
      "0.7007008864151721 (+/-0.10086455169766792) para {'C': 1, 'gamma': 0.2, 'kernel': 'rbf'}\n",
      "0.7332714904143476 (+/-0.09769114331708906) para {'C': 1, 'gamma': 0.5, 'kernel': 'rbf'}\n",
      "0.5011956297670583 (+/-0.09384610373048607) para {'C': 10, 'gamma': 0.0001, 'kernel': 'rbf'}\n",
      "0.5643166357452071 (+/-0.08685529191788621) para {'C': 10, 'gamma': 0.001, 'kernel': 'rbf'}\n",
      "0.6539682539682541 (+/-0.13879625769352252) para {'C': 10, 'gamma': 0.01, 'kernel': 'rbf'}\n",
      "0.7556173984745413 (+/-0.12565396269973916) para {'C': 10, 'gamma': 0.1, 'kernel': 'rbf'}\n",
      "0.778066378066378 (+/-0.0890670107860354) para {'C': 10, 'gamma': 0.2, 'kernel': 'rbf'}\n",
      "0.8148423005565864 (+/-0.12110125809925389) para {'C': 10, 'gamma': 0.5, 'kernel': 'rbf'}\n",
      "0.5622964337250052 (+/-0.0943052222586125) para {'C': 100, 'gamma': 0.0001, 'kernel': 'rbf'}\n",
      "0.6417645846217275 (+/-0.12677276152234065) para {'C': 100, 'gamma': 0.001, 'kernel': 'rbf'}\n",
      "0.7393527107812822 (+/-0.13778349449278057) para {'C': 100, 'gamma': 0.01, 'kernel': 'rbf'}\n",
      "0.8188827045969903 (+/-0.11516232737529457) para {'C': 100, 'gamma': 0.1, 'kernel': 'rbf'}\n",
      "0.8290867862296434 (+/-0.08882105379316112) para {'C': 100, 'gamma': 0.2, 'kernel': 'rbf'}\n",
      "0.8453308596165738 (+/-0.06477808867101593) para {'C': 100, 'gamma': 0.5, 'kernel': 'rbf'}\n",
      "0.6234590806019378 (+/-0.13970790976861722) para {'C': 1000, 'gamma': 0.0001, 'kernel': 'rbf'}\n",
      "0.733250876108019 (+/-0.13451696545607894) para {'C': 1000, 'gamma': 0.001, 'kernel': 'rbf'}\n",
      "0.8106782106782108 (+/-0.10130293817578459) para {'C': 1000, 'gamma': 0.01, 'kernel': 'rbf'}\n",
      "0.843351886209029 (+/-0.0917583877330197) para {'C': 1000, 'gamma': 0.1, 'kernel': 'rbf'}\n",
      "0.8412904555761699 (+/-0.07840815021355578) para {'C': 1000, 'gamma': 0.2, 'kernel': 'rbf'}\n",
      "0.843248814677386 (+/-0.05309861178842471) para {'C': 1000, 'gamma': 0.5, 'kernel': 'rbf'}\n",
      "0.6845186559472274 (+/-0.13094803208091366) para {'C': 1, 'kernel': 'linear'}\n",
      "0.7435786435786435 (+/-0.13412703759141967) para {'C': 10, 'kernel': 'linear'}\n",
      "0.7801071943929088 (+/-0.090135648381487) para {'C': 100, 'kernel': 'linear'}\n",
      "0.8045763760049475 (+/-0.06861499034399583) para {'C': 1000, 'kernel': 'linear'}\n"
     ]
    }
   ],
   "source": [
    "means = model.cv_results_['mean_test_score']\n",
    "stds = model.cv_results_['std_test_score']\n",
    "params = model.cv_results_['params']\n",
    "for m, s, p in zip(means, stds, params):\n",
    "    print(f\"{m} (+/-{2*s}) para {p}\")"
   ]
  },
  {
   "cell_type": "markdown",
   "metadata": {},
   "source": [
    "## Hago las predicciones usando el mejor estimador y analizo los resultados"
   ]
  },
  {
   "cell_type": "code",
   "execution_count": 76,
   "metadata": {},
   "outputs": [],
   "source": [
    "y_pred = clasifier.predict(x_test)"
   ]
  },
  {
   "cell_type": "code",
   "execution_count": 77,
   "metadata": {},
   "outputs": [
    {
     "name": "stdout",
     "output_type": "stream",
     "text": [
      "              precision    recall  f1-score   support\n",
      "\n",
      "       papel       0.35      1.00      0.52        57\n",
      "      piedra       0.00      0.00      0.00        55\n",
      "     tijeras       0.00      0.00      0.00        52\n",
      "\n",
      "    accuracy                           0.35       164\n",
      "   macro avg       0.12      0.33      0.17       164\n",
      "weighted avg       0.12      0.35      0.18       164\n",
      "\n"
     ]
    },
    {
     "name": "stderr",
     "output_type": "stream",
     "text": [
      "C:\\Users\\garel\\anaconda3\\lib\\site-packages\\sklearn\\metrics\\_classification.py:1221: UndefinedMetricWarning: Precision and F-score are ill-defined and being set to 0.0 in labels with no predicted samples. Use `zero_division` parameter to control this behavior.\n",
      "  _warn_prf(average, modifier, msg_start, len(result))\n"
     ]
    }
   ],
   "source": [
    "print(classification_report(y_test, y_pred,labels=labels))"
   ]
  },
  {
   "cell_type": "code",
   "execution_count": 78,
   "metadata": {},
   "outputs": [
    {
     "data": {
      "text/plain": [
       "<matplotlib.axes._subplots.AxesSubplot at 0x187721ed580>"
      ]
     },
     "execution_count": 78,
     "metadata": {},
     "output_type": "execute_result"
    },
    {
     "data": {
      "image/png": "[encoded data removed]",
      "text/plain": [
       "<Figure size 432x288 with 2 Axes>"
      ]
     },
     "metadata": {
      "needs_background": "light"
     },
     "output_type": "display_data"
    }
   ],
   "source": [
    "mat = confusion_matrix(y_test,y_pred)\n",
    "sns.heatmap(mat, square=True, annot=True, fmt='d', cbar=True, xticklabels=labels, yticklabels=labels)"
   ]
  },
  {
   "cell_type": "code",
   "execution_count": 31,
   "metadata": {},
   "outputs": [
    {
     "name": "stdout",
     "output_type": "stream",
     "text": [
      "0.8414634146341463\n"
     ]
    }
   ],
   "source": [
    "print(accuracy_score(y_pred,y_test))"
   ]
  },
  {
   "cell_type": "markdown",
   "metadata": {},
   "source": [
    "## Guardamos el modelo asi no hay que seguir entrenandolo cada vez"
   ]
  },
  {
   "cell_type": "code",
   "execution_count": 32,
   "metadata": {},
   "outputs": [],
   "source": [
    "with open('modelHU-SVM.pickle', 'wb') as f:\n",
    "    pickle.dump(clasifier,f)"
   ]
  },
  {
   "cell_type": "code",
   "execution_count": 33,
   "metadata": {},
   "outputs": [],
   "source": [
    "with open('estandarizador-HU.pickle', 'wb') as f:\n",
    "    pickle.dump(scaler, f)"
   ]
  },
  {
   "cell_type": "markdown",
   "metadata": {},
   "source": [
    "#### en caso que lo queramos importar de nuevo"
   ]
  },
  {
   "cell_type": "code",
   "execution_count": 28,
   "metadata": {},
   "outputs": [],
   "source": [
    "with open('modelHU-SVM.pickle', 'rb') as f:\n",
    "    clasifier = pickle.load(f)"
   ]
  },
  {
   "cell_type": "code",
   "execution_count": null,
   "metadata": {},
   "outputs": [],
   "source": []
  },
  {
   "cell_type": "code",
   "execution_count": null,
   "metadata": {},
   "outputs": [],
   "source": []
  },
  {
   "cell_type": "code",
   "execution_count": 37,
   "metadata": {},
   "outputs": [
    {
     "data": {
      "text/plain": [
       "165      papel\n",
       "199      papel\n",
       "638    tijeras\n",
       "418     piedra\n",
       "277     piedra\n",
       "        ...   \n",
       "434     piedra\n",
       "48       papel\n",
       "371     piedra\n",
       "198      papel\n",
       "601    tijeras\n",
       "Name: p-p-t, Length: 164, dtype: object"
      ]
     },
     "execution_count": 37,
     "metadata": {},
     "output_type": "execute_result"
    }
   ],
   "source": [
    "y_test"
   ]
  },
  {
   "cell_type": "code",
   "execution_count": 44,
   "metadata": {},
   "outputs": [
    {
     "data": {
      "text/plain": [
       "array([[-0.07568388, -0.23859829,  0.01492058, -0.12397412, -0.07758913,\n",
       "        -0.20503011,  0.01431107]])"
      ]
     },
     "execution_count": 44,
     "metadata": {},
     "output_type": "execute_result"
    }
   ],
   "source": [
    "x_test_new[0].reshape(1,-1)"
   ]
  },
  {
   "cell_type": "code",
   "execution_count": 49,
   "metadata": {},
   "outputs": [
    {
     "data": {
      "text/plain": [
       "array(['tijeras'], dtype=object)"
      ]
     },
     "execution_count": 49,
     "metadata": {},
     "output_type": "execute_result"
    }
   ],
   "source": [
    "clasifier.predict(x_test_new[163].reshape(1,-1))"
   ]
  },
  {
   "cell_type": "code",
   "execution_count": 95,
   "metadata": {},
   "outputs": [
    {
     "data": {
      "text/plain": [
       "array([ 0.6572683 ,  0.59250759,  0.42583372,  0.62994259,  0.04983376,\n",
       "        0.63039509, -0.44457687])"
      ]
     },
     "execution_count": 95,
     "metadata": {},
     "output_type": "execute_result"
    }
   ],
   "source": [
    "test_Hu[0]"
   ]
  },
  {
   "cell_type": "code",
   "execution_count": 93,
   "metadata": {},
   "outputs": [
    {
     "data": {
      "text/plain": [
       "array([[-0.07568388, -0.23859829,  0.01492058, -0.12397412, -0.07758913,\n",
       "        -0.20503011,  0.01431107]])"
      ]
     },
     "execution_count": 93,
     "metadata": {},
     "output_type": "execute_result"
    }
   ],
   "source": [
    "scaler.transform(x_test.iloc[0:1])"
   ]
  },
  {
   "cell_type": "code",
   "execution_count": 56,
   "metadata": {},
   "outputs": [],
   "source": [
    "local_path = os.getcwd()\n",
    "fotos_prueba = os.path.join(local_path,'prueba')\n",
    "Hu_moments = []\n",
    "for i in os.listdir(fotos_prueba):\n",
    "    true_path = os.path.join(fotos_prueba, i)\n",
    "    img = cv2.imread(true_path)\n",
    "    im = cv2.cvtColor(img,cv2.COLOR_RGB2GRAY)\n",
    "    _,im = cv2.threshold(im, 160, 200, cv2.THRESH_BINARY)\n",
    "    HU = cv2.HuMoments(cv2.moments(im)).ravel().tolist()\n",
    "    Hu_moments.append(HU)\n"
   ]
  },
  {
   "cell_type": "code",
   "execution_count": 66,
   "metadata": {},
   "outputs": [
    {
     "data": {
      "text/plain": [
       "'papel'"
      ]
     },
     "execution_count": 66,
     "metadata": {},
     "output_type": "execute_result"
    }
   ],
   "source": [
    "y_test.iloc[0]"
   ]
  },
  {
   "cell_type": "code",
   "execution_count": 98,
   "metadata": {},
   "outputs": [],
   "source": [
    "fotos_prueba = os.path.join(local_path,'fotos-training')\n",
    "fotos_prueba = os.path.join(local_path,'fotos-training')\n",
    "fotos_prueba = os.path.join(local_path,'42.jpg')\n",
    "img = cv2.imread(true_path)\n",
    "im = cv2.cvtColor(img,cv2.COLOR_RGB2GRAY)\n",
    "_,im = cv2.threshold(im, 160, 200, cv2.THRESH_BINARY)\n",
    "HU = cv2.HuMoments(cv2.moments(im)).ravel()"
   ]
  },
  {
   "cell_type": "code",
   "execution_count": 99,
   "metadata": {},
   "outputs": [
    {
     "data": {
      "text/plain": [
       "array([[ 1.10665883,  0.4131621 ,  1.59202196,  0.63696431,  0.07310498,\n",
       "         0.55009919, -4.26097401]])"
      ]
     },
     "execution_count": 99,
     "metadata": {},
     "output_type": "execute_result"
    }
   ],
   "source": [
    "scaler.transform(HU.reshape(1,-1))"
   ]
  },
  {
   "cell_type": "code",
   "execution_count": null,
   "metadata": {},
   "outputs": [],
   "source": []
  }
 ],
 "metadata": {
  "kernelspec": {
   "display_name": "Python 3",
   "language": "python",
   "name": "python3"
  },
  "language_info": {
   "codemirror_mode": {
    "name": "ipython",
    "version": 3
   },
   "file_extension": ".py",
   "mimetype": "text/x-python",
   "name": "python",
   "nbconvert_exporter": "python",
   "pygments_lexer": "ipython3",
   "version": "3.8.3"
  }
 },
 "nbformat": 4,
 "nbformat_minor": 4
}
