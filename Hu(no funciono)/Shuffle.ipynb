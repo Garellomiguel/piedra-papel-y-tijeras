{
 "cells": [
  {
   "cell_type": "code",
   "execution_count": 1,
   "metadata": {},
   "outputs": [],
   "source": [
    "import random\n",
    "import os"
   ]
  },
  {
   "cell_type": "code",
   "execution_count": 37,
   "metadata": {},
   "outputs": [],
   "source": [
    "k = []\n",
    "for m in range(2001,2814):\n",
    "    k.append(m)\n",
    "\n",
    "random.shuffle(k)"
   ]
  },
  {
   "cell_type": "code",
   "execution_count": 45,
   "metadata": {},
   "outputs": [],
   "source": [
    "path = os.getcwd()\n",
    "os.listdir(path)\n",
    "ppt = ['papel', 'piedra', 'tijeras']\n",
    "for i in ppt:\n",
    "    local_path = os.path.join(path, i)\n",
    "    for j,f in enumerate(os.listdir(local_path)):\n",
    "        os.rename(os.path.join(local_path,f), os.path.join(local_path, f'{k[j]}.jpg'))"
   ]
  }
 ],
 "metadata": {
  "kernelspec": {
   "display_name": "Python 3",
   "language": "python",
   "name": "python3"
  },
  "language_info": {
   "codemirror_mode": {
    "name": "ipython",
    "version": 3
   },
   "file_extension": ".py",
   "mimetype": "text/x-python",
   "name": "python",
   "nbconvert_exporter": "python",
   "pygments_lexer": "ipython3",
   "version": "3.8.3"
  }
 },
 "nbformat": 4,
 "nbformat_minor": 4
}
